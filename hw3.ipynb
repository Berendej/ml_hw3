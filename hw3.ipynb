{
  "nbformat": 4,
  "nbformat_minor": 0,
  "metadata": {
    "colab": {
      "provenance": [],
      "authorship_tag": "ABX9TyOlIroEu23FNrzxr0sq8MXt",
      "include_colab_link": true
    },
    "kernelspec": {
      "name": "python3",
      "display_name": "Python 3"
    },
    "language_info": {
      "name": "python"
    }
  },
  "cells": [
    {
      "cell_type": "markdown",
      "metadata": {
        "id": "view-in-github",
        "colab_type": "text"
      },
      "source": [
        "<a href=\"https://colab.research.google.com/github/Berendej/ml_hw3/blob/main/hw3.ipynb\" target=\"_parent\"><img src=\"https://colab.research.google.com/assets/colab-badge.svg\" alt=\"Open In Colab\"/></a>"
      ]
    },
    {
      "cell_type": "markdown",
      "source": [
        "Написать функцию, которая будет перводить снейк_кейс\n",
        "в КэмелКейс и наоборот. Функция сама определяет -\n",
        "какой формат ей передали. Можно добавить ключевой\n",
        "аргумент, который будет принудительно возвращать\n",
        "один из форматов.\n",
        "Пример:\n",
        "otus_course -> OtusCourse\n",
        "PythonIsTheBest -> python_is_the_best\n"
      ],
      "metadata": {
        "id": "cMcrDrf8vQGx"
      }
    },
    {
      "cell_type": "code",
      "source": [
        "'''\n",
        "Написать функцию, которая будет перводить снейк_кейс\n",
        "в КэмелКейс и наоборот. Функция сама определяет -\n",
        "какой формат ей передали. Можно добавить ключевой\n",
        "аргумент, который будет принудительно возвращать\n",
        "один из форматов.\n",
        "Пример:\n",
        "otus_course -> OtusCourse\n",
        "PythonIsTheBest -> python_is_the_best\n",
        "'''\n",
        "\n",
        "def is_camel(s : str):\n",
        "    if( 0 == len(s)):\n",
        "        return False\n",
        "    is_up = True if s[0].isupper() else False\n",
        "    has_underscore = True if '_' in s else False\n",
        "    if has_underscore :\n",
        "        return False\n",
        "    if is_up and not has_underscore :\n",
        "        return True # for sure\n",
        "    if is_up and has_underscore :\n",
        "        raise Exception(\"mixed style\")\n",
        "    #if no underscore but either no Upper\n",
        "    # it must be snake\n",
        "    return False\n",
        "\n",
        "def to_camel(s):\n",
        "    res = s[0].upper()\n",
        "    next_to_upper = False\n",
        "    for ix in range(1, len(s)):\n",
        "        if '_' == s[ix] :\n",
        "            next_to_upper = True\n",
        "        else:\n",
        "            res += s[ix] if not next_to_upper else s[ix].upper()\n",
        "            next_to_upper = False\n",
        "    return res\n",
        "\n",
        "def to_snake(s):\n",
        "    res = s[0].lower()\n",
        "    for ix in range(1, len(s)):\n",
        "        if s[ix].isupper() :\n",
        "            res += '_'\n",
        "            res += s[ix].lower()\n",
        "        else:\n",
        "            res += s[ix]\n",
        "    return res\n",
        "\n",
        "def change_style( s : str, *, do_camel : bool = None ):\n",
        "    if( 0 == len(s)):\n",
        "        return ''\n",
        "    if ( None != do_camel ):\n",
        "        # check param correctness\n",
        "        if ( bool != type(do_camel)):\n",
        "            raise Exception('wrong change_style usage')\n",
        "    else:\n",
        "        do_camel = not is_camel(s)\n",
        "    if do_camel :\n",
        "        return to_camel(s)\n",
        "    return to_snake(s)\n",
        "\n",
        "def check(s : str, expected : str, *, do_cam : bool = None):\n",
        "    tmp = change_style(s, do_camel=do_cam)\n",
        "    if tmp != expected:\n",
        "        print(f'Error input( {s}, {do_cam}, expected {expected} got {tmp}')\n",
        "        return False\n",
        "    # reverse test no do_camel param\n",
        "    tmp1 = change_style(tmp)\n",
        "    if tmp1 != s:\n",
        "        print(f'Error input( {tmp}, {do_cam}, expected {s} got {tmp1}')\n",
        "        return False\n",
        "    return True\n",
        "\n",
        "def test():\n",
        "    if not check(\"otus_course\", \"OtusCourse\") :\n",
        "        return False\n",
        "    if not check('PythonIsTheBest',  'python_is_the_best'):\n",
        "        return False\n",
        "    if not check(\"otus_course\", \"OtusCourse\", do_cam = True) :\n",
        "        return False\n",
        "    if not check('PythonIsTheBest',  'python_is_the_best', do_cam = False):\n",
        "        return False\n",
        "    return True\n",
        "\n",
        "if not test():\n",
        "    print(\"sorry it doesn't work\")\n",
        "else:\n",
        "    s = input()\n",
        "    while len(s) > 0:\n",
        "        lst = s.split()\n",
        "        changed_lst = list(map(change_style, lst))\n",
        "        changed_s = ' '.join(changed_lst)\n",
        "        print(changed_s)\n",
        "        s = input()\n",
        "\n"
      ],
      "metadata": {
        "colab": {
          "base_uri": "https://localhost:8080/"
        },
        "id": "tTfjbL6TvS3t",
        "outputId": "e848654b-9041-429d-de47-41b73fa41c35"
      },
      "execution_count": 2,
      "outputs": [
        {
          "name": "stdout",
          "output_type": "stream",
          "text": [
            "Ql Hypy YupiYupi\n",
            "ql hypy yupi_yupi\n",
            "aha_tak_tag  nea_ne_tak\n",
            "AhaTakTag NeaNeTak\n",
            "\n"
          ]
        }
      ]
    },
    {
      "cell_type": "markdown",
      "source": [
        "Написать функцию проверяющую валидность введенной даты.\n",
        "Пример:\n",
        "29.02.2000 -> True\n",
        "29.02.2001 -> False\n",
        "31.04.1962 -> False"
      ],
      "metadata": {
        "id": "4gh7NT3dxuRH"
      }
    },
    {
      "cell_type": "code",
      "source": [
        "def visoc(y):\n",
        "    # год, номер которого кратен 400, — високосный;\n",
        "    if ( 0 == y % 400 ):\n",
        "        return True\n",
        "    #остальные годы, номер которых кратен 100, — невисокосные (например, годы 1700,\n",
        "    # 1800, 1900, 2100, 2200, 2300);\n",
        "    if ( 0 == y % 100 ):\n",
        "        return False\n",
        "    # остальные годы, номер которых кратен 4, — високосные[6]\n",
        "    if ( 0 == y % 4 ):\n",
        "        return True\n",
        "    # все остальные годы — невисокосные.\n",
        "    return False\n",
        "\n",
        "def valid_feb(d, y):\n",
        "    max_day = 28\n",
        "    if ( visoc(y) ):\n",
        "        max_day = 29\n",
        "    return d > 0 and d <= max_day\n",
        "\n",
        "def valid_month(m):\n",
        "    return m > 1 and m < 13\n",
        "\n",
        "# to guarantee valid m, valid_day() must be called after valid_month()\n",
        "def valid_day(d, m, y):\n",
        "    if ( 2 == m ):\n",
        "        return valid_feb(d, y)\n",
        "    # since valid months 1..12, define months[0] = -1\n",
        "    # to shift months table to right\n",
        "    #              j   f   m    a  m    j  jl  au  sp  oc\n",
        "    months = [-1, 31, 28, 31, 30, 31, 30, 31, 31, 30, 31, 30, 31 ]\n",
        "    return d >= 1 and d <= months[m]\n",
        "\n",
        "def valid_year(y):\n",
        "    return True if y >= 0 and y < 3000 else False\n",
        "\n",
        "def valid_date_aux(d : int, m : int, y : int):\n",
        "    if(      valid_year(y)\n",
        "         and valid_month(m)\n",
        "         and valid_day(d,m,y)):\n",
        "        return True\n",
        "    return False\n",
        "\n",
        "def valid_date( s : str ):\n",
        "    lst = s.split('.')\n",
        "    # check if input is valid\n",
        "    if ( 3 == len(lst)\n",
        "            and lst[0].isdigit()\n",
        "            and lst[1].isdigit()\n",
        "            and lst[2].isdigit()):\n",
        "        lst = list(map(int, lst))\n",
        "        return valid_date_aux(lst[0], lst[1], lst[2])\n",
        "    return False\n",
        "\n",
        "def check(s : str , expected : bool):\n",
        "    if ( valid_date(s ) != expected ):\n",
        "        print( f\"wrong result {s} must be {expected} but it is not\")\n",
        "        return False\n",
        "    return True\n",
        "\n",
        "def test():\n",
        "    if ( not check('29.02.2000', True )\n",
        "        or not check('29.02.2001', False)\n",
        "        or not check('31.04.1962', False)):\n",
        "        return False\n",
        "    return True\n",
        "\n",
        "if ( not test() ):\n",
        "    print(\"sorry it doesn't work\")\n",
        "else:\n",
        "    s = input(\"enter date \")\n",
        "    if ( valid_date(s) ):\n",
        "        print('is a valid date')\n",
        "    else:\n",
        "        print('is not a date')\n"
      ],
      "metadata": {
        "colab": {
          "base_uri": "https://localhost:8080/"
        },
        "id": "3-Ckjk1Ox5FN",
        "outputId": "ec04cb29-cd97-4f4d-d45b-79039da65b70"
      },
      "execution_count": 4,
      "outputs": [
        {
          "output_type": "stream",
          "name": "stdout",
          "text": [
            "enter date 01.02.2002\n",
            "is a valid date\n"
          ]
        }
      ]
    },
    {
      "cell_type": "markdown",
      "source": [
        "Функция проверки на простое число.\n",
        "Пример:\n",
        "17 -> True\n",
        "20 -> False\n",
        "23 -> True"
      ],
      "metadata": {
        "id": "L_uxQA_5yMTO"
      }
    },
    {
      "cell_type": "code",
      "source": [
        "def prime( i ):\n",
        "    if int != type(i):\n",
        "        return False\n",
        "    for d in range(2, i//2+1):\n",
        "        if ( 0 == i % d):\n",
        "            return False\n",
        "    return True\n",
        "\n",
        "\n",
        "for i in range(1, 101):\n",
        "    if prime(i):\n",
        "        print(i, ' ', end=' ')\n",
        "\n"
      ],
      "metadata": {
        "colab": {
          "base_uri": "https://localhost:8080/"
        },
        "id": "LzEsiBtCyTl4",
        "outputId": "18d799a2-6bab-47c1-9dba-a466737114b1"
      },
      "execution_count": 5,
      "outputs": [
        {
          "output_type": "stream",
          "name": "stdout",
          "text": [
            "1   2   3   5   7   11   13   17   19   23   29   31   37   41   43   47   53   59   61   67   71   73   79   83   89   97   "
          ]
        }
      ]
    },
    {
      "cell_type": "markdown",
      "source": [
        "Пользователь в бесконечном цикле вводит данные\n",
        "пользователей:\n",
        "имя, фамилию, возраст, ID.\n",
        "Ввод продолжается до тех пор, пока не будет введено\n",
        "пустое поле. Пользователи заносятся в словарь,\n",
        "где ключ это ID пользователя, а остальные данные\n",
        "записываются в виде кортежа. Также программа должна\n",
        "проверять, что имя и фамилия состоят только из\n",
        "символов и начинаются с большой буквы, если не с\n",
        "большой, то заменяет на большую, возраст должен быть\n",
        "числом от 18 до 60, ID - целое число, дополненное до\n",
        "8 знаков незначащими нулями, ID должен быть уникальным\n",
        "Дополнительно написать функцию, которая будет выводить\n",
        "полученный словарь в виде таблицы.\n"
      ],
      "metadata": {
        "id": "3Bw2XSmEyarM"
      }
    },
    {
      "cell_type": "code",
      "source": [
        "def pad(s, l, symb, lft):\n",
        "    if lft : # padding from left\n",
        "        return symb * (l-len(s)) + s\n",
        "    else:\n",
        "        return s + symb * (l-len(s))\n",
        "\n",
        "def reg_user(s : str, user_table):\n",
        "    lst = s.split()\n",
        "    #check input\n",
        "    if ( 4 != len(lst) ):\n",
        "        print(f'wrong input {s}')\n",
        "        return False\n",
        "\n",
        "    if ( not lst[3].isdigit()\n",
        "            or not lst[2].isdigit() ):\n",
        "        return False\n",
        "    if ( not lst[1].isalpha()\n",
        "            or not lst[0].isalpha() ):\n",
        "        return False\n",
        "    # name\n",
        "    n = lst[0][0].upper() + lst[0][1:]\n",
        "    f = lst[1][0].upper() + lst[1][1:]\n",
        "    # pad id with '0' from left\n",
        "    sid = pad(lst[3], 8, '0', True)\n",
        "    user_table[sid] = (n, f, lst[2])\n",
        "    return True\n",
        "\n",
        "def show_users(tab):\n",
        "    #      0123456789 01234567890123456789 0123456789012345678901 012345678\n",
        "    print(\"id        | name               | surname              | age     |\" )\n",
        "    print(\"----------|--------------------|----------------------|---------|\" )\n",
        "    for  k, v in tab.items() :\n",
        "        print(pad(k,   9, ' ', False), '|',\n",
        "              pad(v[0], 18, ' ', False), '|',\n",
        "              pad(v[1], 20, ' ', False), '|',\n",
        "              pad(v[2], 7, ' ', False), '|' )\n",
        "\n",
        "user_table = {}\n",
        "s = input()\n",
        "while len(s) > 0 :\n",
        "    reg_user(s, user_table)\n",
        "    s = input()\n",
        "\n",
        "show_users(user_table)"
      ],
      "metadata": {
        "colab": {
          "base_uri": "https://localhost:8080/"
        },
        "id": "s6C3cKsuylYA",
        "outputId": "8aba6161-dc3d-459c-e54f-62bf9cc6b425"
      },
      "execution_count": 6,
      "outputs": [
        {
          "output_type": "stream",
          "name": "stdout",
          "text": [
            "alex malex 28 3\n",
            "fedya ivanov 33 2\n",
            "се4ргей фе22доров 23 4\n",
            "сергей федоров 23 4\n",
            "\n",
            "id        | name               | surname              | age     |\n",
            "----------|--------------------|----------------------|---------|\n",
            "00000003  | Alex               | Malex                | 28      |\n",
            "00000002  | Fedya              | Ivanov               | 33      |\n",
            "00000004  | Сергей             | Федоров              | 23      |\n"
          ]
        }
      ]
    }
  ]
}